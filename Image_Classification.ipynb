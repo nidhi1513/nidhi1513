{
  "nbformat": 4,
  "nbformat_minor": 0,
  "metadata": {
    "colab": {
      "provenance": []
    },
    "kernelspec": {
      "name": "python3",
      "display_name": "Python 3"
    },
    "language_info": {
      "name": "python"
    }
  },
  "cells": [
    {
      "cell_type": "markdown",
      "source": [
        "#Image Classification Model\n",
        "\n",
        "CIFAR - 10 DATASET\n",
        "\n",
        "Following are the steps involved :\n",
        "1. Data Collection\n",
        "2. Data Preprocessing\n",
        "--NORMALIZE --RESHAPE\n",
        "3. Model Building\n",
        "--CNN --LAYERS IN CNN\n",
        "4. Training the model\n",
        "5. Model Evaluation\n",
        "6. Fine Tuning and optimization\n",
        "7. Making Predictions\n",
        "\n",
        "OBJECTIVE : CLASSIFYING THE IMAGES INTO ONE OF THE 10 CLASSES\n",
        "\n"
      ],
      "metadata": {
        "id": "nEy9OcnCujh6"
      }
    },
    {
      "cell_type": "code",
      "source": [
        "import tensorflow as tf"
      ],
      "metadata": {
        "id": "c4oANS1YvXaz"
      },
      "execution_count": null,
      "outputs": []
    },
    {
      "cell_type": "code",
      "source": [
        "from tensorflow.keras import datasets,layers,models"
      ],
      "metadata": {
        "id": "PjUUWwLMw5dn"
      },
      "execution_count": null,
      "outputs": []
    },
    {
      "cell_type": "code",
      "source": [
        "(train_images,train_labels),(test_images,test_labels)=datasets.cifar10.load_data()"
      ],
      "metadata": {
        "colab": {
          "base_uri": "https://localhost:8080/"
        },
        "id": "eiE1QfCZxKM5",
        "outputId": "f7929a9f-d894-4297-a92b-bfa45b6bfdb6"
      },
      "execution_count": null,
      "outputs": [
        {
          "output_type": "stream",
          "name": "stdout",
          "text": [
            "Downloading data from https://www.cs.toronto.edu/~kriz/cifar-10-python.tar.gz\n",
            "170498071/170498071 [==============================] - 11s 0us/step\n"
          ]
        }
      ]
    },
    {
      "cell_type": "code",
      "source": [
        "train_images, test_images = train_images/255.0, test_images/255.0"
      ],
      "metadata": {
        "id": "YfbseqihxkIB"
      },
      "execution_count": null,
      "outputs": []
    },
    {
      "cell_type": "code",
      "source": [
        "train_images\n",
        "len(train_images)"
      ],
      "metadata": {
        "colab": {
          "base_uri": "https://localhost:8080/"
        },
        "id": "poiT12Tax4mq",
        "outputId": "ab22c725-93a0-4db2-a99c-47d1b51621d7"
      },
      "execution_count": null,
      "outputs": [
        {
          "output_type": "execute_result",
          "data": {
            "text/plain": [
              "50000"
            ]
          },
          "metadata": {},
          "execution_count": 8
        }
      ]
    },
    {
      "cell_type": "code",
      "source": [
        "\n",
        "#structure of neural network\n",
        "model = models.Sequential()\n",
        "model.add(layers.Conv2D(32,(3,3),activation = 'relu',input_shape=(32,32,3)))\n",
        "model.add(layers.MaxPooling2D((2,2)))\n",
        "model.add(layers.Conv2D(64,(3,3),activation='relu'))\n",
        "model.add(layers.MaxPooling2D((2,2)))\n",
        "model.add(layers.Conv2D(64,(3,3),activation='relu'))\n",
        "model.add(layers.Flatten())\n",
        "model.add(layers.Dense(64,activation='relu'))\n",
        "model.add(layers.Dense(10,activation='softmax'))"
      ],
      "metadata": {
        "id": "q4_tDsqXx8wA"
      },
      "execution_count": null,
      "outputs": []
    },
    {
      "cell_type": "code",
      "source": [
        "model.compile(optimizer='adam',\n",
        "              loss='categorical_crossentropy',\n",
        "              metrics = ['accuracy'])"
      ],
      "metadata": {
        "id": "Q5E0scTnz91F"
      },
      "execution_count": null,
      "outputs": []
    },
    {
      "cell_type": "code",
      "source": [
        "from tensorflow.keras.utils import to_categorical"
      ],
      "metadata": {
        "id": "StzkWMZq1JUD"
      },
      "execution_count": null,
      "outputs": []
    },
    {
      "cell_type": "code",
      "source": [
        "train_labels_one_hot = to_categorical(train_labels)\n",
        "test_labels_one_hot = to_categorical(test_labels)"
      ],
      "metadata": {
        "id": "DflGpwtM1vH4"
      },
      "execution_count": null,
      "outputs": []
    },
    {
      "cell_type": "code",
      "source": [
        "model.fit(train_images,train_labels_one_hot,epochs=10,validation_data=(test_images,test_labels_one_hot))\n",
        "test_loss, test_acc = model.evaluate(test_images, test_labels_one_hot,verbose=2)"
      ],
      "metadata": {
        "colab": {
          "base_uri": "https://localhost:8080/"
        },
        "id": "6_Rn7FAi2gW1",
        "outputId": "106f0b65-f364-4d23-cb26-12eb6bb07698"
      },
      "execution_count": null,
      "outputs": [
        {
          "output_type": "stream",
          "name": "stdout",
          "text": [
            "Epoch 1/10\n",
            "1563/1563 [==============================] - 78s 49ms/step - loss: 1.5602 - accuracy: 0.4309 - val_loss: 1.2979 - val_accuracy: 0.5290\n",
            "Epoch 2/10\n",
            "1563/1563 [==============================] - 76s 48ms/step - loss: 1.2157 - accuracy: 0.5674 - val_loss: 1.1374 - val_accuracy: 0.5923\n",
            "Epoch 3/10\n",
            "1563/1563 [==============================] - 74s 47ms/step - loss: 1.0687 - accuracy: 0.6236 - val_loss: 1.0561 - val_accuracy: 0.6226\n",
            "Epoch 4/10\n",
            "1563/1563 [==============================] - 74s 47ms/step - loss: 0.9744 - accuracy: 0.6573 - val_loss: 1.0092 - val_accuracy: 0.6474\n",
            "Epoch 5/10\n",
            "1563/1563 [==============================] - 78s 50ms/step - loss: 0.9052 - accuracy: 0.6819 - val_loss: 0.9058 - val_accuracy: 0.6858\n",
            "Epoch 6/10\n",
            "1563/1563 [==============================] - 72s 46ms/step - loss: 0.8469 - accuracy: 0.7012 - val_loss: 0.9074 - val_accuracy: 0.6813\n",
            "Epoch 7/10\n",
            "1563/1563 [==============================] - 74s 47ms/step - loss: 0.7968 - accuracy: 0.7214 - val_loss: 0.8962 - val_accuracy: 0.6962\n",
            "Epoch 8/10\n",
            "1563/1563 [==============================] - 77s 49ms/step - loss: 0.7554 - accuracy: 0.7345 - val_loss: 0.8930 - val_accuracy: 0.6947\n",
            "Epoch 9/10\n",
            "1563/1563 [==============================] - 77s 49ms/step - loss: 0.7182 - accuracy: 0.7483 - val_loss: 0.8854 - val_accuracy: 0.6979\n",
            "Epoch 10/10\n",
            "1563/1563 [==============================] - 74s 47ms/step - loss: 0.6858 - accuracy: 0.7580 - val_loss: 0.8458 - val_accuracy: 0.7068\n",
            "313/313 - 4s - loss: 0.8458 - accuracy: 0.7068 - 4s/epoch - 14ms/step\n"
          ]
        }
      ]
    },
    {
      "cell_type": "code",
      "source": [],
      "metadata": {
        "id": "vI4jfdgfsmzh"
      },
      "execution_count": null,
      "outputs": []
    },
    {
      "cell_type": "code",
      "source": [
        "test_loss, test_acc = model.evaluate(test_images, test_labels_one_hot,verbose=2)"
      ],
      "metadata": {
        "colab": {
          "base_uri": "https://localhost:8080/"
        },
        "id": "3qNsQOTp6WdW",
        "outputId": "8e5b6c9d-d986-4554-da71-572370e93468"
      },
      "execution_count": null,
      "outputs": [
        {
          "output_type": "stream",
          "name": "stdout",
          "text": [
            "313/313 - 4s - loss: 0.8458 - accuracy: 0.7068 - 4s/epoch - 12ms/step\n"
          ]
        }
      ]
    },
    {
      "cell_type": "code",
      "source": [
        "print(f\"Test Loss : { test_loss}\")\n",
        "print(f\"Test Accuracy : { test_acc}\")"
      ],
      "metadata": {
        "colab": {
          "base_uri": "https://localhost:8080/"
        },
        "id": "hf7pSYX78cYr",
        "outputId": "0f87a1fc-9b92-446e-8407-991c4ece5602"
      },
      "execution_count": null,
      "outputs": [
        {
          "output_type": "stream",
          "name": "stdout",
          "text": [
            "Test Loss : 0.8457944393157959\n",
            "Test Accuracy : 0.7067999839782715\n"
          ]
        }
      ]
    }
  ]
}